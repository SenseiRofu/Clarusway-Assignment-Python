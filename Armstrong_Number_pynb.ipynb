{
  "nbformat": 4,
  "nbformat_minor": 0,
  "metadata": {
    "colab": {
      "name": "Armstrong_Number.pynb",
      "provenance": [],
      "collapsed_sections": [],
      "authorship_tag": "ABX9TyNFkSewDFrBYnkngDWyRFIs",
      "include_colab_link": true
    },
    "kernelspec": {
      "name": "python3",
      "display_name": "Python 3"
    },
    "language_info": {
      "name": "python"
    }
  },
  "cells": [
    {
      "cell_type": "markdown",
      "metadata": {
        "id": "view-in-github",
        "colab_type": "text"
      },
      "source": [
        "<a href=\"https://colab.research.google.com/github/senseirofu/Clarusway-Assignment-Python/blob/main/Armstrong_Number_pynb.ipynb\" target=\"_parent\"><img src=\"https://colab.research.google.com/assets/colab-badge.svg\" alt=\"Open In Colab\"/></a>"
      ]
    },
    {
      "cell_type": "code",
      "source": [
        "while True:\n",
        "  armstrong=input('Enter any number please ... : ')\n",
        " \n",
        "  if armstrong.isdigit():\n",
        "    top=0\n",
        "    for i in armstrong:\n",
        "      \n",
        "      top+=int(i)**len(armstrong)\n",
        "    if (top==int(armstrong)):\n",
        "        print(armstrong, 'is an Armstrong number')\n",
        "    else:\n",
        "        print(armstrong, 'is not an Armstrong number')\n",
        "    break\n",
        "  else:\n",
        "     print(\" It is an invalid entry. Don't use non-numeric, float, or negative values!\")"
      ],
      "metadata": {
        "id": "pRM2gwQuY0oU"
      },
      "execution_count": null,
      "outputs": []
    },
    {
      "cell_type": "code",
      "execution_count": null,
      "metadata": {
        "id": "ElPVdnMeRQBD"
      },
      "outputs": [],
      "source": [
        "#ilkel versiyon\n",
        "basamak_sayısı=int(input(\"kaç basamaklı Armstrong testi yapmak istiyorsunuz\"))\n",
        "if basamak_sayısı == 4 :\n",
        "\n",
        "  x=int(input(\"Binler basamağı : ----- :\"))\n",
        "  y=int(input(\"Yüzler basamağı : ----- :\"))\n",
        "  z=int(input(\"Onlar basamağı : ----- :\"))\n",
        "  k=int(input(\"Birler basamağı : ----- :\"))\n",
        "\n",
        "  a = (x*1000) + (y*100) + (z*10) + (k)\n",
        "\n",
        "  if a == x**4+y**4+z**4+k**4:\n",
        "    print(\"Armstrong\")\n",
        "  else:\n",
        "    print(\"Tekrar Deneyin\")\n",
        "\n",
        "elif basamak_sayısı == 3:\n",
        "\n",
        "\n",
        "  x=int(input(\"Yüzler basamağı : ----- :\"))\n",
        "  y=int(input(\"Onlar basamağı : ----- :\"))\n",
        "  z=int(input(\"Birler basamağı : ----- :\"))\n",
        "\n",
        "\n",
        "  a = (x*100) + (y*10) + (z)\n",
        "\n",
        "  if a == x**3+y**3+z**3:\n",
        "    print(\"Armstrong\")\n",
        "  else:\n",
        "    print(\"Tekrar Deneyin\")\n",
        "\n",
        "\n"
      ]
    }
  ]
}