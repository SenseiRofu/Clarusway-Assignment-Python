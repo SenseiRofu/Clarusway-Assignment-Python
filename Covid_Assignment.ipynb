{
  "nbformat": 4,
  "nbformat_minor": 0,
  "metadata": {
    "colab": {
      "name": "Covid Assignment.ipynb",
      "provenance": [],
      "collapsed_sections": [],
      "authorship_tag": "ABX9TyMkoSm7lBqYjw6XbMwODAQU",
      "include_colab_link": true
    },
    "kernelspec": {
      "name": "python3",
      "display_name": "Python 3"
    },
    "language_info": {
      "name": "python"
    }
  },
  "cells": [
    {
      "cell_type": "markdown",
      "metadata": {
        "id": "view-in-github",
        "colab_type": "text"
      },
      "source": [
        "<a href=\"https://colab.research.google.com/github/senseirofu/Assignment2/blob/main/Covid_Assignment.ipynb\" target=\"_parent\"><img src=\"https://colab.research.google.com/assets/colab-badge.svg\" alt=\"Open In Colab\"/></a>"
      ]
    },
    {
      "cell_type": "code",
      "execution_count": null,
      "metadata": {
        "id": "pL3nHBoGG0kS"
      },
      "outputs": [],
      "source": [
        "x=int(input(\"Yaşınız Kaç?--:\"))\n",
        "y=str(input(\"Sigara içiyormusunuz?\\nlütfen Y veya N yazınız--:\"))\n",
        "z=str(input(\"Kronik bir hastalığınız var mı?\\nlütfen Y veya N yazınız--:\"))\n",
        "k=str(input(\"Bağışıklık sisteminiz çok mu zayıf?\\nlütfen Y veya N yazınız--:\"))\n",
        "# 70 yaş üst\n",
        "if (x >= 70) and y == \"Y\" and z == \"Y\" and  k == \"Y\":\n",
        " print(\"Keyfine bak seni Allah'tan başka kimse kurtaramaz\")\n",
        "elif (x >= 70) and y == \"N\" and z == \"N\" and  k == \"N\":\n",
        " print(\"Güzel bir emeklilik hayatı seni bekliyor\")\n",
        "elif (x >= 70) and y == \"Y\" and z == \"N\" and  k == \"N\":\n",
        " print(\"Sigarayı bırakmalısın dostum..\")\n",
        "elif (x >= 70) and y == \"N\" and z == \"Y\" and  k == \"N\":\n",
        " print(\"Egzersiz yapmayı ihmal etme!\")\n",
        "elif (x >= 70) and y == \"N\" and z == \"N\" and  k == \"Y\":\n",
        " print(\"Kefir içmeye devam etmelisin.\")\n",
        "elif (x >= 70) and y == \"N\" and z == \"Y\" and  k == \"Y\":\n",
        " print(\"Sevdiklerine vakit ayırmayı ihmal etme onlar için pes etme\")\n",
        "elif (x >= 70) and y == \"Y\" and z == \"N\" and  k == \"Y\":\n",
        " print(\"Sigarayı bırak! Kefir ve spora acil başla..\")\n",
        "elif (x >= 70) and y == \"Y\" and z == \"Y\" and  k == \"N\":\n",
        " print(\"Sevdiklerine erken veda etmemek için alışkanlıklarını değiştirmelisin\")\n",
        "# 70 - 50 yaş arası\n",
        "elif ((x >= 50) and (x <= 69)) and y == \"N\" and z == \"N\" and  k == \"N\":\n",
        " print(\"Hayata karşı en anlamlı duruş Sağlıklı yaşamak!\")\n",
        "elif ((x >= 50) and (x <= 69)) and y == \"Y\" and z == \"N\" and  k == \"N\":\n",
        " print(\"Sigara dostun değil dude.\")\n",
        "elif ((x >= 50) and (x <= 69)) and y == \"N\" and z == \"Y\" and  k == \"N\":\n",
        " print(\"Kefir ve zencefil\")\n",
        "elif ((x >= 50) and (x <= 69)) and y == \"N\" and z == \"N\" and  k == \"Y\":\n",
        " print(\"Kefir içmeye devam etmelisin.\")\n",
        "elif ((x >= 50) and (x <= 69)) and y == \"N\" and z == \"Y\" and  k == \"Y\":\n",
        " print(\"Sevdiklerine vakit ayırmayı ihmal etme onlar için pes etme\")\n",
        "elif ((x >= 50) and (x <= 69)) and y == \"Y\" and z == \"N\" and  k == \"Y\":\n",
        " print(\"Sigarayı bırak! Kefir ve spora acil başla..\")\n",
        "elif ((x >= 50) and (x <= 69)) and y == \"Y\" and z == \"Y\" and  k == \"N\":\n",
        " print(\"Sevdiklerine erken veda etmemek için alışkanlıklarını değiştirmelisin\")\n",
        " # 50 - 30 yaş arası\n",
        "elif ((x >= 30) and (x <= 49)) and y == \"N\" and z == \"N\" and  k == \"N\":\n",
        " print(\"20 lik insanlara taş çıkartıyorsun.\")\n",
        "elif ((x >= 30) and (x <= 49)) and y == \"Y\" and z == \"N\" and  k == \"N\":\n",
        " print(\"Yes smoking kills but mostly it kills the other guy.\")\n",
        "elif ((x >= 30) and (x <= 49)) and y == \"N\" and z == \"Y\" and  k == \"N\":\n",
        " print(\"Kefir ve zencefil ve bal'ı ihmal etme\")\n",
        "elif ((x >= 30) and (x <= 49)) and y == \"N\" and z == \"N\" and  k == \"Y\":\n",
        " print(\"Kefir ve egzersizlere devam.\")\n",
        "elif ((x >= 30) and (x <= 49)) and y == \"N\" and z == \"Y\" and  k == \"Y\":\n",
        " print(\"Sevdiklerine vakit ayırmayı ihmal etme onlar için pes etme\")\n",
        "elif ((x >= 30) and (x <= 49)) and y == \"Y\" and z == \"N\" and  k == \"Y\":\n",
        " print(\"Sigarayı bırak! Kefir ve spora acil başla..\")\n",
        "elif ((x >= 30) and (x <= 49)) and y == \"Y\" and z == \"Y\" and  k == \"N\":\n",
        " print(\"Sevdiklerine erken veda etmemek için alışkanlıklarını değiştirmelisin\")\n",
        "# 30 yaş altı\n",
        "elif (x <= 29) and y == \"N\" and z == \"N\" and  k == \"N\":\n",
        " print(\"S Tier habit for healthy\")\n",
        "elif (x <= 29) and y == \"Y\" and z == \"N\" and  k == \"N\":\n",
        " print(\"Sigara çok pahalı olum içme\")\n",
        "elif (x <= 29) and y == \"N\" and z == \"Y\" and  k == \"N\":\n",
        " print(\"Kefir ve zencefil ve balı ihmal etme\")\n",
        "elif (x <= 29) and y == \"N\" and z == \"N\" and  k == \"Y\":\n",
        " print(\"Kefir ve egzersizlere devam.Hiç bir şey sana engel değil\")\n",
        "elif (x <= 29) and y == \"N\" and z == \"Y\" and  k == \"Y\":\n",
        " print(\"NEVER GİVE UP\")\n",
        "elif (x <= 29) and y == \"Y\" and z == \"N\" and  k == \"Y\":\n",
        " print(\"Sigarayı bırak! Kefir ve spora acil başla..\")\n",
        "elif (x <= 29) and y == \"Y\" and z == \"Y\" and  k == \"N\":\n",
        " print(\"Sevdiklerine erken veda etmemek için alışkanlıklarını değiştirmelisin\")"
      ]
    }
  ]
}