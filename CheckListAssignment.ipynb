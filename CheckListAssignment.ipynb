{
  "nbformat": 4,
  "nbformat_minor": 0,
  "metadata": {
    "colab": {
      "name": "CheckListAssignment.ipynb",
      "provenance": [],
      "authorship_tag": "ABX9TyP9FTUlTgseoleYn+XrgYmX",
      "include_colab_link": true
    },
    "kernelspec": {
      "name": "python3",
      "display_name": "Python 3"
    },
    "language_info": {
      "name": "python"
    }
  },
  "cells": [
    {
      "cell_type": "markdown",
      "metadata": {
        "id": "view-in-github",
        "colab_type": "text"
      },
      "source": [
        "<a href=\"https://colab.research.google.com/github/senseirofu/Clarusway-Assignment-Python/blob/main/CheckListAssignment.ipynb\" target=\"_parent\"><img src=\"https://colab.research.google.com/assets/colab-badge.svg\" alt=\"Open In Colab\"/></a>"
      ]
    },
    {
      "cell_type": "code",
      "execution_count": 1,
      "metadata": {
        "colab": {
          "base_uri": "https://localhost:8080/"
        },
        "id": "1FkboovbVe12",
        "outputId": "840103a9-1ba9-4ea3-ccc5-daab47d8698e"
      },
      "outputs": [
        {
          "output_type": "stream",
          "name": "stdout",
          "text": [
            "Adınız nedir::?Emre\n",
            "Parolanız :Clarusway123\n"
          ]
        }
      ],
      "source": [
        "x = str(input(\"Adınız nedir::?\"))\n",
        "\n",
        "if x == \"Emre\":\n",
        "  print('Parolanız :Clarusway123')\n",
        "else:\n",
        "  print(f'Merhaba {x}! adınız malesef kayıtlarımızda yok.')"
      ]
    }
  ]
}