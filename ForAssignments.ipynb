{
  "nbformat": 4,
  "nbformat_minor": 0,
  "metadata": {
    "colab": {
      "name": "ForAssignments.ipynb",
      "provenance": [],
      "collapsed_sections": [],
      "authorship_tag": "ABX9TyOH4+wEnPesTHxJTXNFzLaj",
      "include_colab_link": true
    },
    "kernelspec": {
      "name": "python3",
      "display_name": "Python 3"
    },
    "language_info": {
      "name": "python"
    }
  },
  "cells": [
    {
      "cell_type": "markdown",
      "metadata": {
        "id": "view-in-github",
        "colab_type": "text"
      },
      "source": [
        "<a href=\"https://colab.research.google.com/github/senseirofu/Clarusway-Assignment-Python/blob/main/ForAssignments.ipynb\" target=\"_parent\"><img src=\"https://colab.research.google.com/assets/colab-badge.svg\" alt=\"Open In Colab\"/></a>"
      ]
    },
    {
      "cell_type": "code",
      "execution_count": null,
      "metadata": {
        "id": "GobFbQgfsSMy"
      },
      "outputs": [],
      "source": [
        "from collections import Counter\n",
        "import random\n",
        "\n",
        "x = int(input(\"bir sayı giriniz--:\"))\n",
        "y = int(input('sayıların içinden kaçını seçsin--:'))\n",
        "list1 = random.sample(range(x), k=(y))\n",
        "list2 = random.sample(range(x+1), k=(y+1))\n",
        "list3 = random.sample(range(x+4), k=(y+4))\n",
        "\n",
        "all_list_total=list1+list2+list3\n",
        "y=print(all_list_total)\n",
        "Counter(all_list_total)\n",
        "\n",
        "pi\n",
        "\n"
      ]
    },
    {
      "cell_type": "code",
      "source": [
        "numbers = [1, 3, 7, 4, 3, 0, 3, 6, 3]\n",
        "most_frequent = max(numbers, key = numbers.count)\n",
        "frequency = numbers.count(most_frequent)\n",
        "print(f\"the most frequent number is {most_frequent} and it was {frequency} times repeated\")"
      ],
      "metadata": {
        "id": "vnumq1dCyfNf"
      },
      "execution_count": null,
      "outputs": []
    },
    {
      "cell_type": "code",
      "source": [
        "C=float(input(\"\"\"'Celsius' değerini giriniz---:\"\"\"))\n",
        "F=C*1.8-32\n",
        "print(F,'Fahrenayttır')\n",
        "\n"
      ],
      "metadata": {
        "colab": {
          "base_uri": "https://localhost:8080/"
        },
        "id": "rclPuR5A-7wm",
        "outputId": "575c0f01-7286-4b2f-ea46-07e7fbad7e04"
      },
      "execution_count": null,
      "outputs": [
        {
          "output_type": "stream",
          "name": "stdout",
          "text": [
            "'Celsius' değerini giriniz---:80\n",
            "112.0 Fahrenayttır\n"
          ]
        }
      ]
    },
    {
      "cell_type": "code",
      "source": [
        "Km = float(input(\"Mesafeyi kilometre olarak giriniz--:\"))\n",
        "Miles = Km *(0.6214)\n",
        "print(Km,'Kilometre',Miles,'Mildir.')"
      ],
      "metadata": {
        "colab": {
          "base_uri": "https://localhost:8080/"
        },
        "id": "j3vsv18V-7yv",
        "outputId": "78ad327c-0048-41ea-c011-1dc9c448cdec"
      },
      "execution_count": null,
      "outputs": [
        {
          "output_type": "stream",
          "name": "stdout",
          "text": [
            "Mesafeyi kilometre olarak giriniz--:31\n",
            "31.0 Kilometre 19.263399999999997 Mildir.\n"
          ]
        }
      ]
    },
    {
      "cell_type": "code",
      "source": [
        "print(\"write me\" or True and not 0)\n",
        "\n"
      ],
      "metadata": {
        "id": "eAKisvTj-702"
      },
      "execution_count": null,
      "outputs": []
    },
    {
      "cell_type": "code",
      "source": [
        "Year = int(input(\"Bir yıl giriniz--:\"))\n",
        "x=((Year % 400 == 0) or (Year % 100 != 0) and (Year % 4 == 0))\n",
        "if x == True :\n",
        " print(\"Artık Yıldır\")\n",
        "else :\n",
        " print(\"Artık Yıl Değildir\")"
      ],
      "metadata": {
        "id": "UfOOM5p--722"
      },
      "execution_count": null,
      "outputs": []
    },
    {
      "cell_type": "code",
      "source": [
        "number = 23\n",
        "if number >= 10:\n",
        "    print(\"The number is equal or greater than 10\")\n",
        "else :\n",
        "    print(\"The number is less than 10\")"
      ],
      "metadata": {
        "colab": {
          "base_uri": "https://localhost:8080/"
        },
        "id": "KIaTKuK0-75P",
        "outputId": "263e9205-a8d5-4b72-b592-871a34da9033"
      },
      "execution_count": null,
      "outputs": [
        {
          "output_type": "stream",
          "name": "stdout",
          "text": [
            "The number is equal or greater than 10\n"
          ]
        }
      ]
    },
    {
      "cell_type": "code",
      "source": [
        "ilk_değer = 50\n",
        "z = 50\n",
        "k = 50\n",
        "b = 50\n",
        "aritmatik_ortalama = ((z+k+b)/3)\n",
        "\n",
        "if (aritmatik_ortalama >= ilk_değer*1.15):\n",
        " print(\"kârlı\")\n",
        "elif (aritmatik_ortalama >= ilk_değer*1):\n",
        " print(\"nötr\")\n",
        "elif (aritmatik_ortalama <= ilk_değer):\n",
        " print(\"zarar\")"
      ],
      "metadata": {
        "id": "tPvto2no-77k"
      },
      "execution_count": null,
      "outputs": []
    },
    {
      "cell_type": "code",
      "source": [
        "  == False"
      ],
      "metadata": {
        "id": "_5osaCljRbY7"
      },
      "execution_count": null,
      "outputs": []
    },
    {
      "cell_type": "code",
      "source": [
        "num = [1,3,4,5,6,7,8,9,9,0,23,4,3425]\n",
        "max(num)"
      ],
      "metadata": {
        "id": "T42m4VIFRbV8",
        "colab": {
          "base_uri": "https://localhost:8080/"
        },
        "outputId": "0a1fd7f2-0bbb-412c-d0f8-3734e914a92e"
      },
      "execution_count": null,
      "outputs": [
        {
          "output_type": "execute_result",
          "data": {
            "text/plain": [
              "3425"
            ]
          },
          "metadata": {},
          "execution_count": 6
        }
      ]
    },
    {
      "cell_type": "code",
      "source": [
        "numbers = [1, 3, 7, 4, 3, 0, 3, 6, 3]\n",
        "mod,num = 0,0\n",
        "for i in numbers:\n",
        "    if numbers.count(i)> mod:\n",
        "        mod=numbers.count(i)\n",
        "        num=i\n",
        "print(\"the most frequent number is {} and it was {} times repeated\".format(num,mod))"
      ],
      "metadata": {
        "id": "VTViM8AeRbTh",
        "colab": {
          "base_uri": "https://localhost:8080/"
        },
        "outputId": "94845474-09be-4845-8966-46eaf92c6986"
      },
      "execution_count": null,
      "outputs": [
        {
          "output_type": "stream",
          "name": "stdout",
          "text": [
            "the most frequent number is 3 and it was 4 times repeated\n"
          ]
        }
      ]
    },
    {
      "cell_type": "code",
      "source": [
        "num = [9,2,3,4,6,34,567,7,8,9,23,10,10,10]\n",
        "max(num, key = num.count)\n"
      ],
      "metadata": {
        "id": "NuGYS0MxRbNl",
        "colab": {
          "base_uri": "https://localhost:8080/"
        },
        "outputId": "145af5fd-7f9f-4c45-dae0-3228946abd0d"
      },
      "execution_count": null,
      "outputs": [
        {
          "output_type": "execute_result",
          "data": {
            "text/plain": [
              "10"
            ]
          },
          "metadata": {},
          "execution_count": 19
        }
      ]
    },
    {
      "cell_type": "code",
      "source": [
        "import statistics                    # tepe değer bulmak için\n",
        "from statistics import mode\n",
        "def most_common(List):\n",
        "\treturn(mode(List))\n",
        "List = [2, 1, 2, 2, 1, 3]\n",
        "print(most_common(List))\n"
      ],
      "metadata": {
        "id": "AgW7pEdqRbLK",
        "colab": {
          "base_uri": "https://localhost:8080/"
        },
        "outputId": "a5660f02-731c-4e4d-978d-c480c37d0907"
      },
      "execution_count": null,
      "outputs": [
        {
          "output_type": "stream",
          "name": "stdout",
          "text": [
            "2\n"
          ]
        }
      ]
    },
    {
      "cell_type": "code",
      "source": [
        "x=int(input(\"Yaşınız Kaç?--:\"))\n",
        "y=str(input(\"Sigara içiyormusunuz?\\nlütfen Y veya N yazınız--:\"))\n",
        "z=str(input(\"Kronik bir hastalığınız var mı?\\nlütfen Y veya N yazınız--:\"))\n",
        "k=str(input(\"Bağışıklık sisteminiz çok mu zayıf?\\nlütfen Y veya N yazınız--:\"))\n",
        "# 70 yaş üst\n",
        "if (x >= 70) and y == \"Y\" and z == \"Y\" and  k == \"Y\":  \n",
        "   print(\"Keyfine bak seni Allah'tan başka kimse kurtaramaz\")\n",
        "elif (x >= 70) and y == \"N\" and z == \"N\" and  k == \"N\":\n",
        "   print(\"Güzel bir emeklilik hayatı seni bekliyor\")\n",
        "elif (x >= 70) and y == \"Y\" and z == \"N\" and  k == \"N\":\n",
        "   print(\"Sigarayı bırakmalısın dostum..\")\n",
        "elif (x >= 70) and y == \"N\" and z == \"Y\" and  k == \"N\":\n",
        "   print(\"Egzersiz yapmayı ihmal etme!\")\n",
        "elif (x >= 70) and y == \"N\" and z == \"N\" and  k == \"Y\":\n",
        "   print(\"Kefir içmeye devam etmelisin.\")\n",
        "elif (x >= 70) and y == \"N\" and z == \"Y\" and  k == \"Y\":\n",
        "   print(\"Sevdiklerine vakit ayırmayı ihmal etme onlar için pes etme\")\n",
        "elif (x >= 70) and y == \"Y\" and z == \"N\" and  k == \"Y\":\n",
        "   print(\"Sigarayı bırak! Kefir ve spora acil başla..\")\n",
        "elif (x >= 70) and y == \"Y\" and z == \"Y\" and  k == \"N\":\n",
        "   print(\"Sevdiklerine erken veda etmemek için alışkanlıklarını değiştirmelisin\")\n",
        "# 70 - 50 yaş arası\n",
        "elif ((x >= 50) and (x <= 69)) and y == \"N\" and z == \"N\" and  k == \"N\":\n",
        " print(\"Hayata karşı en anlamlı duruş Sağlıklı yaşamak!\")\n",
        "elif ((x >= 50) and (x <= 69)) and y == \"Y\" and z == \"N\" and  k == \"N\":\n",
        " print(\"Sigara dostun değil dude.\")\n",
        "elif ((x >= 50) and (x <= 69)) and y == \"N\" and z == \"Y\" and  k == \"N\":\n",
        " print(\"Kefir ve zencefil\")\n",
        "elif ((x >= 50) and (x <= 69)) and y == \"N\" and z == \"N\" and  k == \"Y\":\n",
        " print(\"Kefir içmeye devam etmelisin.\")\n",
        "elif ((x >= 50) and (x <= 69)) and y == \"N\" and z == \"Y\" and  k == \"Y\":\n",
        " print(\"Sevdiklerine vakit ayırmayı ihmal etme onlar için pes etme\")\n",
        "elif ((x >= 50) and (x <= 69)) and y == \"Y\" and z == \"N\" and  k == \"Y\":\n",
        " print(\"Sigarayı bırak! Kefir ve spora acil başla..\")\n",
        "elif ((x >= 50) and (x <= 69)) and y == \"Y\" and z == \"Y\" and  k == \"N\":\n",
        " print(\"Sevdiklerine erken veda etmemek için alışkanlıklarını değiştirmelisin\")\n",
        " # 50 - 30 yaş arası\n",
        "elif ((x >= 30) and (x <= 49)) and y == \"N\" and z == \"N\" and  k == \"N\":\n",
        " print(\"20 lik insanlara taş çıkartıyorsun.\")\n",
        "elif ((x >= 30) and (x <= 49)) and y == \"Y\" and z == \"N\" and  k == \"N\":\n",
        " print(\"Yes smoking kills but mostly it kills the other guy.\")\n",
        "elif ((x >= 30) and (x <= 49)) and y == \"N\" and z == \"Y\" and  k == \"N\":\n",
        " print(\"Kefir ve zencefil ve bal'ı ihmal etme\")\n",
        "elif ((x >= 30) and (x <= 49)) and y == \"N\" and z == \"N\" and  k == \"Y\":\n",
        " print(\"Kefir ve egzersizlere devam.\")\n",
        "elif ((x >= 30) and (x <= 49)) and y == \"N\" and z == \"Y\" and  k == \"Y\":\n",
        " print(\"Sevdiklerine vakit ayırmayı ihmal etme onlar için pes etme\")\n",
        "elif ((x >= 30) and (x <= 49)) and y == \"Y\" and z == \"N\" and  k == \"Y\":\n",
        " print(\"Sigarayı bırak! Kefir ve spora acil başla..\")\n",
        "elif ((x >= 30) and (x <= 49)) and y == \"Y\" and z == \"Y\" and  k == \"N\":\n",
        " print(\"Sevdiklerine erken veda etmemek için alışkanlıklarını değiştirmelisin\")\n",
        "# 30 yaş altı\n",
        "elif (x <= 29) and y == \"N\" and z == \"N\" and  k == \"N\":\n",
        " print(\"S Tier habit for healthy\")\n",
        "elif (x <= 29) and y == \"Y\" and z == \"N\" and  k == \"N\":\n",
        " print(\"Sigara çok pahalı olum içme\")\n",
        "elif (x <= 29) and y == \"N\" and z == \"Y\" and  k == \"N\":\n",
        " print(\"Kefir ve zencefil ve balı ihmal etme\")\n",
        "elif (x <= 29) and y == \"N\" and z == \"N\" and  k == \"Y\":\n",
        " print(\"Kefir ve egzersizlere devam.Hiç bir şey sana engel değil\")\n",
        "elif (x <= 29) and y == \"N\" and z == \"Y\" and  k == \"Y\":\n",
        " print(\"NEVER GİVE UP\")\n",
        "elif (x <= 29) and y == \"Y\" and z == \"N\" and  k == \"Y\":\n",
        " print(\"Sigarayı bırak! Kefir ve spora acil başla..\")\n",
        "elif (x <= 29) and y == \"Y\" and z == \"Y\" and  k == \"N\":\n",
        " print(\"Sevdiklerine erken veda etmemek için alışkanlıklarını değiştirmelisin\")\n",
        "elif (x <= 29) and y == \"Y\" and z == \"Y\" and  k == \"Y\":\n",
        " print(\"DEAD\")\n",
        " "
      ],
      "metadata": {
        "id": "ciHdWwhERbI9",
        "colab": {
          "base_uri": "https://localhost:8080/"
        },
        "outputId": "8c0ac443-a4a6-4dea-9219-30f7b1e301eb"
      },
      "execution_count": null,
      "outputs": [
        {
          "output_type": "stream",
          "name": "stdout",
          "text": [
            "Yaşınız Kaç?--:15\n",
            "Sigara içiyormusunuz?\n",
            "lütfen Y veya N yazınız--:Y\n",
            "Kronik bir hastalığınız var mı?\n",
            "lütfen Y veya N yazınız--:Y\n",
            "Bağışıklık sisteminiz çok mu zayıf?\n",
            "lütfen Y veya N yazınız--:Y\n",
            "Sercanın siki\n"
          ]
        }
      ]
    },
    {
      "cell_type": "code",
      "source": [
        "Task : Estimating the risk of death from coronavirus.\n",
        "\n",
        "Consider the following questions in terms of True/False regarding someone else.\n",
        "\n",
        "Are you a cigarette addict older than 75 years old? Variable → age\n",
        "\n",
        "Do you have a severe chronic disease? Variable → chronic\n",
        "\n",
        "Is your immune system too weak? Variable → immune"
      ],
      "metadata": {
        "id": "xgFZRgwEpLnr"
      },
      "execution_count": null,
      "outputs": []
    },
    {
      "cell_type": "code",
      "source": [
        "x=int(input(\"Yaşınız Kaç?--:\"))\n",
        "y=str(input(\"Sigara içiyormusunuz?\\nlütfen Y veya N yazınız--:\"))\n",
        "z=str(input(\"Kronik bir hastalığınız var mı?\\nlütfen Y veya N yazınız--:\"))\n",
        "k=str(input(\"Bağışıklık sisteminiz çok mu zayıf?\\nlütfen Y veya N yazınız--:\"))\n",
        "# 70 yaş üst\n",
        "if (x >= 70) and y == \"Y\" and z == \"Y\" and  k == \"Y\":  \n",
        "   print(\"Keyfine bak seni Allah'tan başka kimse kurtaramaz\")\n",
        "elif (x >= 70) and y == \"N\" and z == \"N\" and  k == \"N\":\n",
        "   print(\"Güzel bir emeklilik hayatı seni bekliyor\")\n",
        "elif (x >= 70) and y == \"Y\" and z == \"N\" and  k == \"N\":\n",
        "   print(\"Sigarayı bırakmalısın dostum..\")\n",
        "elif (x >= 70) and y == \"N\" and z == \"Y\" and  k == \"N\":\n",
        "   print(\"Egzersiz yapmayı ihmal etme!\")\n",
        "elif (x >= 70) and y == \"N\" and z == \"N\" and  k == \"Y\":\n",
        "   print(\"Kefir içmeye devam etmelisin.\")\n",
        "elif (x >= 70) and y == \"N\" and z == \"Y\" and  k == \"Y\":\n",
        "   print(\"Sevdiklerine vakit ayırmayı ihmal etme onlar için pes etme\")\n",
        "elif (x >= 70) and y == \"Y\" and z == \"N\" and  k == \"Y\":\n",
        "   print(\"Sigarayı bırak! Kefir ve spora acil başla..\")\n",
        "elif (x >= 70) and y == \"Y\" and z == \"Y\" and  k == \"N\":\n",
        "   print(\"Sevdiklerine erken veda etmemek için alışkanlıklarını değiştirmelisin\")\n",
        "else: False"
      ],
      "metadata": {
        "id": "rN8AC39kpLjM",
        "colab": {
          "base_uri": "https://localhost:8080/"
        },
        "outputId": "cb1687d2-0c63-4424-b190-c99eafdb53f1"
      },
      "execution_count": null,
      "outputs": [
        {
          "name": "stdout",
          "output_type": "stream",
          "text": [
            "Yaşınız Kaç?--:31\n",
            "Sigara içiyormusunuz?\n",
            "lütfen Y veya N yazınız--:N\n",
            "Kronik bir hastalığınız var mı?\n",
            "lütfen Y veya N yazınız--:N\n",
            "Bağışıklık sisteminiz çok mu zayıf?\n",
            "lütfen Y veya N yazınız--:N\n"
          ]
        }
      ]
    },
    {
      "cell_type": "code",
      "source": [
        "left = ['q', 'w', 'e', 'r', 't', 'a', 's', 'd', 'f', 'g', 'z', 'x', 'c', 'v', 'b']\n",
        "right = ['y', 'u','ı', 'i', 'o', 'p', 'ğ','ş', 'h', 'j', 'k', 'l', 'n', 'm']\n",
        "\n",
        "set()\n",
        "{}\n",
        "# given_word=input(veri gir)\n",
        "\n",
        "# test edilen "
      ],
      "metadata": {
        "id": "i_D-T2WWpLfL"
      },
      "execution_count": null,
      "outputs": []
    },
    {
      "cell_type": "code",
      "source": [
        "def comfortable_word(word):\n",
        "    right = {'y', 'u', 'i', 'o', 'p', 'h', 'j', 'k', 'l', 'n', 'm'}\n",
        "    Left = { \"q\", \"w\", \"e\", \"r\", \"t\", \"a\", \"s\", \"d\", \"f\", \"g\", \"z\", \"x\", \"c\", \"v\", \"b\"}\n",
        "    return all((a in right) ^ (b in right) for a, b, in zip(word, word[1:]))"
      ],
      "metadata": {
        "id": "1iBZuthtpLWj"
      },
      "execution_count": null,
      "outputs": []
    },
    {
      "cell_type": "code",
      "source": [
        "def comfortable_word(word):\n",
        "    left = 'qwertasdfgzxcvb'\n",
        "    right = 'yuiophjklnm'\n",
        "    \n",
        "    for letter in word:\n",
        "        if word.index(letter) + 1 == len(word): continue\n",
        "        if (letter in left) == (word[word.index(letter) + 1] in left):\n",
        "            return False\n",
        "    return True"
      ],
      "metadata": {
        "id": "Dn46C-vOpK8M"
      },
      "execution_count": null,
      "outputs": []
    },
    {
      "cell_type": "code",
      "source": [
        "x=str(input('herhangi bir kelime yazın'))\n",
        "def comfortable_word(x):\n",
        "    left = ['q', 'w', 'e', 'r', 't', 'a', 's', 'd', 'f', 'g', 'z', 'x', 'c', 'v', 'b']\n",
        "    right = ['y', 'u','ı', 'i', 'o', 'p','ğ','ş', 'h', 'j', 'k', 'l', 'n', 'm']\n",
        "    x = [i for i in x]\n",
        "    \n",
        "    for i in range(len(x)-1):\n",
        "        if x[i] in left and x[i+1] in left:\n",
        "            return print(False)\n",
        "        if x[i] in right and x[i+1] in right:\n",
        "            return print(False)\n",
        "    return \n"
      ],
      "metadata": {
        "colab": {
          "base_uri": "https://localhost:8080/"
        },
        "id": "80jWOLjHd_AN",
        "outputId": "78e67140-5958-4d02-8fb5-99079bb10674"
      },
      "execution_count": null,
      "outputs": [
        {
          "name": "stdout",
          "output_type": "stream",
          "text": [
            "herhangi bir kelime yazınahsdjfasd\n"
          ]
        }
      ]
    },
    {
      "cell_type": "code",
      "source": [
        "\n",
        "word=input('Türkçe veya İngilizce bir kelime giriniz -: ')\n",
        "\n",
        "left_hand={'b', 'e', 'w','r', 't', 's', 'a', 'd', 'f', 'g', 'z', 'x', 'c', 'v', 'q'}   \n",
        "right_hand={'y', 'n', 'ı','o', 'p', 'ğ', 'ü', 'h', 'j', 'k', 'l', 'ş', 'i', 'u', 'm', 'ö', 'ç'}\n",
        "\n",
        "word_set=set(word)\n",
        "\n",
        "x = ((word_set & left_hand) != set([None])) and ((word_set & right_hand) != set([None])) \n",
        "\n",
        "print(word+' is a comfortable word -: ' + str(x))"
      ],
      "metadata": {
        "colab": {
          "base_uri": "https://localhost:8080/"
        },
        "id": "l8441v7Zd-3b",
        "outputId": "a07c69a6-f3be-4f0d-afb9-2191f714b896"
      },
      "execution_count": null,
      "outputs": [
        {
          "output_type": "stream",
          "name": "stdout",
          "text": [
            "Türkçe veya İngilizce bir kelime giriniz -: sfdhlojk\n",
            "sfdhlojk is a comfortable word -: True\n"
          ]
        }
      ]
    },
    {
      "cell_type": "code",
      "source": [
        "veri1 = input(\"What's you name: \")\n",
        "veri2 = str(input(\"What' your birthday\"))\n",
        "Kul_verileri= {\n",
        "    \"Emre\":01.02.1992,\n",
        "    \"Hasan\":05.02.2000,\n",
        "    \"Muhammet\":04.03.1999}\n",
        "\n",
        "\n",
        "\n",
        "# Password attempt is 3 times, starts at 2, then 1 and ends when counter is 0\n",
        "num = 2  \n",
        "\n",
        "# bananas is the correct password\n",
        "while msg == \"Emre\":  \n",
        "    if num == 0:\n",
        "        print(\"Bu ad kayıtlı değil.\")  # exhausted all 3 attempts, should print given message.\n",
        "    elif msg == True\n",
        "    else:\n",
        "        print(f\"Wrong Password! You have {num} chances left\")  # password incorrect, display attempts left\n",
        "        msg = input(\"What's the secret password: \")\n",
        "        num = num - 1\n",
        "\n",
        "print(\"Correct\") "
      ],
      "metadata": {
        "colab": {
          "base_uri": "https://localhost:8080/"
        },
        "id": "XVHUiw6xsOtL",
        "outputId": "801e24d3-7416-4e57-ac16-e51e9238dff2"
      },
      "execution_count": 4,
      "outputs": [
        {
          "output_type": "stream",
          "name": "stdout",
          "text": [
            "What's you name: Emre\n",
            "Correct\n"
          ]
        }
      ]
    },
    {
      "cell_type": "code",
      "source": [
        "veri1 = str(input(\"What's you name: \"))\n",
        "veri2 = str(input(\"What' your birthday\"))\n",
        "Kul_verileri= {\n",
        "    \"Emre\":\"01.02.1992\",\n",
        "    \"Hasan\":\"05.02.2000\",\n",
        "    \"Muhammet\":\"04.03.1999\"}\n",
        "\n",
        "\n",
        "for i in Kul_verileri.keys() :\n",
        "  if veri1 in i:\n",
        "   print(True)\n",
        "   for i in Kul_verileri.values():\n",
        "      print(True)\n",
        "\n",
        "  \n"
      ],
      "metadata": {
        "colab": {
          "base_uri": "https://localhost:8080/"
        },
        "id": "1SaEa00csOqz",
        "outputId": "8ebf3b6b-b5f0-4441-8b9a-782b7f6bd77f"
      },
      "execution_count": 42,
      "outputs": [
        {
          "output_type": "stream",
          "name": "stdout",
          "text": [
            "What's you name: Emre\n",
            "What' your birthday01.02.1992\n",
            "True\n",
            "True\n",
            "True\n",
            "True\n"
          ]
        }
      ]
    },
    {
      "cell_type": "code",
      "source": [
        "x = str(input(\"Adınız nedir::?\"))\n",
        "\n",
        "if x == \"Emre\":\n",
        "  print('Parolanız :Clarusway123')\n",
        "else:\n",
        "  print(f'Merhaba {x}! adınız malesef kayıtlarımızda yok.')"
      ],
      "metadata": {
        "colab": {
          "base_uri": "https://localhost:8080/"
        },
        "id": "BN9BYCa2sOmT",
        "outputId": "096cbc70-eba7-4b93-b970-fb5529438625"
      },
      "execution_count": 49,
      "outputs": [
        {
          "output_type": "stream",
          "name": "stdout",
          "text": [
            "Adınız nedir::?emrd\n",
            "Merhaba emrd! adınız malesef kayıtlarımızda yok.\n"
          ]
        }
      ]
    },
    {
      "cell_type": "code",
      "source": [
        ""
      ],
      "metadata": {
        "id": "8u_IMTnEsOkC"
      },
      "execution_count": null,
      "outputs": []
    },
    {
      "cell_type": "code",
      "source": [
        ""
      ],
      "metadata": {
        "id": "sqyYBXz4sOc6"
      },
      "execution_count": null,
      "outputs": []
    }
  ]
}