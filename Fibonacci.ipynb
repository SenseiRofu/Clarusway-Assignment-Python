{
  "nbformat": 4,
  "nbformat_minor": 0,
  "metadata": {
    "colab": {
      "name": "Fibonacci.ipynb",
      "provenance": [],
      "collapsed_sections": [],
      "authorship_tag": "ABX9TyPXQMnmNWc70UuD1CoVIQUS",
      "include_colab_link": true
    },
    "kernelspec": {
      "name": "python3",
      "display_name": "Python 3"
    },
    "language_info": {
      "name": "python"
    }
  },
  "cells": [
    {
      "cell_type": "markdown",
      "metadata": {
        "id": "view-in-github",
        "colab_type": "text"
      },
      "source": [
        "<a href=\"https://colab.research.google.com/github/senseirofu/Clarusway-Assignment-Python/blob/main/Fibonacci.ipynb\" target=\"_parent\"><img src=\"https://colab.research.google.com/assets/colab-badge.svg\" alt=\"Open In Colab\"/></a>"
      ]
    },
    {
      "cell_type": "code",
      "source": [
        "# Fibonacci sıra değerlerini bulmak için bir girdi yazın yada diğer bir deyişle tavşanın kaç kez doğuracağını yazın ^^\n",
        "Number = int(input(\"Please Enter the Fibonacci Number Range = \"))\n",
        "\n",
        "First = 0\n",
        "Second = 1\n",
        "Sum = 0\n",
        "\n",
        "\n",
        "for Num in range(0, Number):\n",
        "     print(First, end = '  ')\n",
        "     Sum = Sum + First\n",
        "     Next = First + Second\n",
        "     First = Second\n",
        "     Second = Next\n",
        "    \n",
        "\n",
        "print(\"\\nThe Sum of Fibonacci Series Numbers = %d\" %Sum)"
      ],
      "metadata": {
        "id": "xWFzuDn1W5gu"
      },
      "execution_count": null,
      "outputs": []
    }
  ]
}