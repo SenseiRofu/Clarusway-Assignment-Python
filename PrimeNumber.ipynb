{
  "nbformat": 4,
  "nbformat_minor": 0,
  "metadata": {
    "colab": {
      "name": "PrimeNumber.ipynb",
      "provenance": [],
      "authorship_tag": "ABX9TyPs+fFNiTjrGBMwd2CySstG",
      "include_colab_link": true
    },
    "kernelspec": {
      "name": "python3",
      "display_name": "Python 3"
    },
    "language_info": {
      "name": "python"
    }
  },
  "cells": [
    {
      "cell_type": "markdown",
      "metadata": {
        "id": "view-in-github",
        "colab_type": "text"
      },
      "source": [
        "<a href=\"https://colab.research.google.com/github/senseirofu/Clarusway-Assignment-Python/blob/main/PrimeNumber.ipynb\" target=\"_parent\"><img src=\"https://colab.research.google.com/assets/colab-badge.svg\" alt=\"Open In Colab\"/></a>"
      ]
    },
    {
      "cell_type": "code",
      "execution_count": null,
      "metadata": {
        "id": "fw4e2PyxWC6c"
      },
      "outputs": [],
      "source": [
        "is_primenumber= int(input('bir sayı giriniz: '))\n",
        "asalmi=True\n",
        "i=2\n",
        "while i < is_primenumber :\n",
        "    \n",
        "    if is_primenumber%i==0:\n",
        "      asalmi=False\n",
        "      break\n",
        "    i+=1\n",
        "if asalmi==True:\n",
        "    print(is_primenumber,'asaldir.')\n",
        "else:\n",
        "  print(is_primenumber,'asal değildir.')"
      ]
    }
  ]
}