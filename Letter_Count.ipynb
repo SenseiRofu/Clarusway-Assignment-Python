{
  "nbformat": 4,
  "nbformat_minor": 0,
  "metadata": {
    "colab": {
      "name": "Letter Count.ipynb",
      "provenance": [],
      "collapsed_sections": [],
      "authorship_tag": "ABX9TyPbicRNrj64A3t1kp3EQfx6",
      "include_colab_link": true
    },
    "kernelspec": {
      "name": "python3",
      "display_name": "Python 3"
    },
    "language_info": {
      "name": "python"
    }
  },
  "cells": [
    {
      "cell_type": "markdown",
      "metadata": {
        "id": "view-in-github",
        "colab_type": "text"
      },
      "source": [
        "<a href=\"https://colab.research.google.com/github/senseirofu/Clarusway-Assignment-Python/blob/main/Letter_Count.ipynb\" target=\"_parent\"><img src=\"https://colab.research.google.com/assets/colab-badge.svg\" alt=\"Open In Colab\"/></a>"
      ]
    },
    {
      "cell_type": "code",
      "execution_count": null,
      "metadata": {
        "id": "BDmlXgDrP0na"
      },
      "outputs": [],
      "source": [
        "x=input(\"write any word please\")\n",
        "\n",
        "def letter_counter(x):\n",
        "    dic = {}\n",
        "    for i in x:\n",
        "        dic[i] = dic.get(i,0)+1\n",
        "    return dic\n",
        "    \n",
        "\n",
        "print(letter_counter(x))"
      ]
    }
  ]
}